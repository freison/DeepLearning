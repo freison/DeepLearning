{
  "nbformat": 4,
  "nbformat_minor": 0,
  "metadata": {
    "colab": {
      "name": "Lab3_rl.ipynb",
      "version": "0.3.2",
      "provenance": [],
      "collapsed_sections": [],
      "include_colab_link": true
    },
    "kernelspec": {
      "name": "python2",
      "display_name": "Python 2"
    }
  },
  "cells": [
    {
      "cell_type": "markdown",
      "metadata": {
        "id": "view-in-github",
        "colab_type": "text"
      },
      "source": [
        "<a href=\"https://colab.research.google.com/github/freison/DeepLearning/blob/master/Lab3_rl.ipynb\" target=\"_parent\"><img src=\"https://colab.research.google.com/assets/colab-badge.svg\" alt=\"Open In Colab\"/></a>"
      ]
    },
    {
      "metadata": {
        "id": "Nj_C8VBynrh8",
        "colab_type": "text"
      },
      "cell_type": "markdown",
      "source": [
        "# Lab 3: Model-Free Reinforcement Learning"
      ]
    },
    {
      "metadata": {
        "id": "hkE1fTiJs1T5",
        "colab_type": "text"
      },
      "cell_type": "markdown",
      "source": [
        "## Part 1: Cartpole"
      ]
    },
    {
      "metadata": {
        "id": "r1tThXKZs3Nd",
        "colab_type": "code",
        "colab": {
          "base_uri": "https://localhost:8080/",
          "height": 72
        },
        "outputId": "c5b8fd9f-3be7-4b91-9a07-ea1eeca8cb67"
      },
      "cell_type": "code",
      "source": [
        "!apt-get install -y xvfb python-opengl > /dev/null 2>&1\n",
        "!pip install gym pyvirtualdisplay scikit-video > /dev/null 2>&1\n",
        "\n",
        "import tensorflow as tf\n",
        "tf.enable_eager_execution()\n",
        "\n",
        "import gym\n",
        "import numpy as np\n",
        "import matplotlib.pyplot as plt\n",
        "from IPython import display as ipythondisplay\n",
        "import time\n",
        "\n",
        "# Download the class repository\n",
        "! git clone https://github.com/aamini/introtodeeplearning_labs.git  > /dev/null 2>&1\n",
        "% cd introtodeeplearning_labs \n",
        "! git pull\n",
        "% cd ..\n",
        "\n",
        "import introtodeeplearning_labs as util"
      ],
      "execution_count": 2,
      "outputs": [
        {
          "output_type": "stream",
          "text": [
            "/content/introtodeeplearning_labs\n",
            "Already up to date.\n",
            "/content\n"
          ],
          "name": "stdout"
        }
      ]
    },
    {
      "metadata": {
        "id": "gWzgTjQWuwv_",
        "colab_type": "text"
      },
      "cell_type": "markdown",
      "source": [
        "### 1.1 Define and inspect the environment"
      ]
    },
    {
      "metadata": {
        "id": "3pV9fE-qu0ea",
        "colab_type": "code",
        "colab": {
          "base_uri": "https://localhost:8080/",
          "height": 35
        },
        "outputId": "149b7be2-d841-4a6e-c047-7a8ef72832c2"
      },
      "cell_type": "code",
      "source": [
        "'''In order to model our enviroment we will use OpenAI Gym, RL algorithms in many aspects are random,\n",
        "   So we are going to use a seed.'''\n",
        "env = gym.make(\"CartPole-v0\")\n",
        "env.seed(1) # Reproducible, since RL has high variance."
      ],
      "execution_count": 3,
      "outputs": [
        {
          "output_type": "execute_result",
          "data": {
            "text/plain": [
              "[1L]"
            ]
          },
          "metadata": {
            "tags": []
          },
          "execution_count": 3
        }
      ]
    },
    {
      "metadata": {
        "id": "cLVdOJsAwMBa",
        "colab_type": "text"
      },
      "cell_type": "markdown",
      "source": [
        "Observations:\n",
        "\n",
        "1.   position of cart\n",
        "2.   velocity of cart.\n",
        "3.   angle of pole.\n",
        "4.   rotation rate of pole."
      ]
    },
    {
      "metadata": {
        "id": "X4JZioZgwaRH",
        "colab_type": "code",
        "colab": {
          "base_uri": "https://localhost:8080/",
          "height": 35
        },
        "outputId": "a56143dc-fb37-459e-d36f-d015a76ca7a5"
      },
      "cell_type": "code",
      "source": [
        "'''We can confirm the size of the space by querying the observation space:'''\n",
        "print(\"Enviroment has observation space = {}\".format(env.observation_space))"
      ],
      "execution_count": 4,
      "outputs": [
        {
          "output_type": "stream",
          "text": [
            "Enviroment has observation space = Box(4,)\n"
          ],
          "name": "stdout"
        }
      ]
    },
    {
      "metadata": {
        "id": "rdwn7zcOxK97",
        "colab_type": "code",
        "colab": {
          "base_uri": "https://localhost:8080/",
          "height": 35
        },
        "outputId": "4e9593c5-37ee-4997-a482-65631f01aa82"
      },
      "cell_type": "code",
      "source": [
        "'''At every time step, the agent can move either right or left.\n",
        "   Confirm the size of the action space by querying the environment'''\n",
        "n_actions = env.action_space.n\n",
        "print(\"Number of possible actions that the agent can choose from = {}\".format(n_actions))"
      ],
      "execution_count": 18,
      "outputs": [
        {
          "output_type": "stream",
          "text": [
            "Number of possible actions that the agent can choose from = 2\n"
          ],
          "name": "stdout"
        }
      ]
    },
    {
      "metadata": {
        "id": "sp0k2ZYGx_aK",
        "colab_type": "text"
      },
      "cell_type": "markdown",
      "source": [
        "### 1.2 Define the agent"
      ]
    },
    {
      "metadata": {
        "id": "5ESKJpBdyCK8",
        "colab_type": "code",
        "colab": {}
      },
      "cell_type": "code",
      "source": [
        "'''Let´s define our agent, which is simply a deep neural network which takes as input an observation of the environment \n",
        "   and outputs the probability of taking each of the possible actions.'''\n",
        "def create_cartpole_model():\n",
        "  model = tf.keras.Sequential([\n",
        "      tf.keras.layers.Dense(units = 32, activation = 'relu'),\n",
        "      # TODO: define the output dimension of the last Dense layer\n",
        "      # Hint: think about that the space the agent needs to act in\n",
        "      tf.keras.layers.Dense(units = n_actions, activation = None)\n",
        "  ])\n",
        "  return model\n",
        "cartpole_model = create_cartpole_model()"
      ],
      "execution_count": 0,
      "outputs": []
    },
    {
      "metadata": {
        "id": "CJKoxCzHzopG",
        "colab_type": "code",
        "colab": {}
      },
      "cell_type": "code",
      "source": [
        "'''Define the action function that executes a forward pass through the network and samples from the output. \n",
        "   Take special note of the output activation of the model.'''\n",
        "def choose_action(model, observation):\n",
        "  \n",
        "  observation = observation.reshape([1,-1])\n",
        "  '''TODO: feed the observations through the model to predict the log probabilities of each possible action.'''\n",
        "  logits = model.predict(observation) #TODO\n",
        "  \n",
        "  # pass the log probabilities through a softmax to compute true probabilities\n",
        "  prob_weights = tf.nn.softmax(logits).numpy()\n",
        "  \n",
        "  '''TODO: randomly sample from the prob_weights to pick an action.\n",
        "  Hint: carefully consider the dimensionality of the input probabilities (vector) and the output action (scalar)'''\n",
        "  action = np.random.choice(n_actions, size = 1, p = prob_weights.flatten())[0]\n",
        "  \n",
        "  return action"
      ],
      "execution_count": 0,
      "outputs": []
    },
    {
      "metadata": {
        "id": "EzfbhQiK2TgG",
        "colab_type": "text"
      },
      "cell_type": "markdown",
      "source": [
        "### 1.3 Create the agent's memory"
      ]
    },
    {
      "metadata": {
        "id": "pNzi2Y_A2V4U",
        "colab_type": "code",
        "colab": {}
      },
      "cell_type": "code",
      "source": [
        "'''During training, the agent will need to remember all of its observations, actions so that once the episode ends, \n",
        "it can \"reinforce\" the good actions and punish the undesirable actions. Let's do this by defining a simple memory buffer that contains the agent's observations, \n",
        "actions, and received rewards from a given episode.'''\n",
        "class Memory:\n",
        "  def __init__(self):\n",
        "    self.clear()\n",
        "    \n",
        "  def clear(self):\n",
        "    self.observations = []\n",
        "    self.actions = []\n",
        "    self.rewards = []\n",
        "    \n",
        "  def add_to_memory(self, new_observation, new_action, new_reward):\n",
        "    self.observations.append(new_observation)\n",
        "    '''TODO: update the list of actions with new action'''\n",
        "    self.actions.append(new_action) #TODO\n",
        "    '''TODO: update the list of rewards with new reward'''\n",
        "    self.rewards.append(new_reward) #TODO\n",
        "    \n",
        "memory = Memory()"
      ],
      "execution_count": 0,
      "outputs": []
    },
    {
      "metadata": {
        "id": "L-6hcOEd5Wv4",
        "colab_type": "text"
      },
      "cell_type": "markdown",
      "source": [
        "We're almost ready to begin the learning algorithm for our agent! The final step is to compute the discounted rewards of our agent. Recall from lecture, we use reward discount to give more preference at getting rewards now rather than later in the future. The idea of discounting rewards is similar to discounting money in the case of interest and can be defined as:\n",
        "\n",
        ">$R_{t}=\\sum_{k=0}^\\infty\\gamma^kr_{t+k}$\n",
        "\n",
        "where  γ  is the discount factor. In other words, at the end of an episode, we'll want to depreciate any rewards received at later time steps. Since we can't play an infinite number of games, we'll be limited to the number of timesteps in an episode. When implementing the function, you can initialize a numpy array of zeros (with length of the number of time steps) and fill it with the real discounted reward values as you loop through the saved rewards from the episode. We'll also want to normalize our output, which you can do using information about the mean and standard deviation of the discounted rewards."
      ]
    },
    {
      "metadata": {
        "id": "OFIqXsVm5XWi",
        "colab_type": "code",
        "colab": {}
      },
      "cell_type": "code",
      "source": [
        "def normalize(x):\n",
        "  x -= np.mean(x)\n",
        "  x /= np.std(x)\n",
        "  return x\n",
        "\n",
        "def discount_rewards(rewards, gamma = 0.95):\n",
        "  discounted_rewards = np.zeros_like(rewards)\n",
        "  R = 0\n",
        "  for t in reversed(range(0, len(rewards))):\n",
        "    # update the total discounted reward\n",
        "    R = R * gamma + rewards[t]\n",
        "    discounted_rewards[t] = R\n",
        "    \n",
        "  return normalize(discounted_rewards)"
      ],
      "execution_count": 0,
      "outputs": []
    },
    {
      "metadata": {
        "id": "BBQq9Lt66Pud",
        "colab_type": "text"
      },
      "cell_type": "markdown",
      "source": [
        "### 1.4 Define the learning algorithm"
      ]
    },
    {
      "metadata": {
        "id": "GUe2kl2t6SoG",
        "colab_type": "code",
        "colab": {}
      },
      "cell_type": "code",
      "source": [
        "'''Now we can start to define the learing algorithm \n",
        "which will be used to reinforce good behaviors of the agent and discourage bad behaviours. \n",
        "Start by defining the optimizer we want to use.'''\n",
        "learning_rate = 1e-3\n",
        "optimizer = tf.train.AdamOptimizer(learning_rate)"
      ],
      "execution_count": 0,
      "outputs": []
    },
    {
      "metadata": {
        "id": "dKPgPJES7tv7",
        "colab_type": "text"
      },
      "cell_type": "markdown",
      "source": [
        "And now let's define the loss function. In this lab we are focusing on policy gradient methods which aim to maximize the likelihood of actions that result in large rewards. Equivalently, this means that we want to minimize the negative likelihood of these same actions. Like in supervised learning, we can use stochastic gradient descent methods to achieve this minimization.\n",
        "\n",
        "Since the log function is monotonically increasing, this means that minimizing negative likelihood is equivalent to minimizing negative log-likelihood. Recall that we can easily compute the negative log-likelihood of an discrete action by evaluting its softmax cross entropy (https://www.tensorflow.org/api_docs/python/tf/nn/sparse_softmax_cross_entropy_with_logits)"
      ]
    },
    {
      "metadata": {
        "id": "Wg82ycj_7vTU",
        "colab_type": "code",
        "colab": {}
      },
      "cell_type": "code",
      "source": [
        "def compute_loss(logits, actions, rewards):\n",
        "  '''TODO: complete the call to compute the loss'''\n",
        "  neg_logprob = tf.nn.sparse_softmax_cross_entropy_with_logits(logits = logits, labels = actions) # TODO\n",
        "  '''TODO: scale the negative log probability by the rewards'''\n",
        "  loss = tf.reduce_mean( neg_logprob * rewards) # TODO\n",
        "  return loss"
      ],
      "execution_count": 0,
      "outputs": []
    },
    {
      "metadata": {
        "id": "YpVrt_ZX8a7d",
        "colab_type": "code",
        "colab": {}
      },
      "cell_type": "code",
      "source": [
        "'''Now let's use the loss function to define a backpropogation step of our learning algorithm.'''\n",
        "def train_step(model, optimizer, observations, actions, discounted_rewards):\n",
        "  with tf.GradientTape() as tape:\n",
        "    # Forward propogate through the agent\n",
        "    observations = tf.convert_to_tensor(observations, dtype=tf.float32)\n",
        "    logits = model(observations)\n",
        "    \n",
        "    '''TODO: call the compute_loss function to compute the loss'''\n",
        "    loss = compute_loss(logits, actions, discounted_rewards) # TODO\n",
        "    \n",
        "  '''TODO: run backpropagation using the tape.gradient method'''\n",
        "  grads = tape.gradient(loss, model.variables) # TODO\n",
        "  optimizer.apply_gradients(zip(grads, model.variables), global_step=tf.train.get_or_create_global_step())"
      ],
      "execution_count": 0,
      "outputs": []
    },
    {
      "metadata": {
        "id": "on9PaoTv9wpm",
        "colab_type": "text"
      },
      "cell_type": "markdown",
      "source": [
        "### 1.5 Let the agent go and watch it learn from scratch\n",
        "Having had no prior knowledge of the environment, the agent will begin to learn how to balance the pole on the cart based only on the feedback received from the environment! Having defined how our agent can move, how it takes in new observations, and how it updates its state, we'll see how it gradually learns a policy of actions to optimize balancing the pole as long as possible."
      ]
    },
    {
      "metadata": {
        "id": "bdRit6X391QY",
        "colab_type": "code",
        "colab": {
          "base_uri": "https://localhost:8080/",
          "height": 550
        },
        "outputId": "612dba2b-1a48-4467-c281-8330aad5cf1a"
      },
      "cell_type": "code",
      "source": [
        "cartpole_model = create_cartpole_model()\n",
        "\n",
        "smoothed_reward = util.LossHistory(smoothing_factor=0.9)\n",
        "plotter = util.PeriodicPlotter(sec=5, xlabel='Iterations', ylabel='Rewards')\n",
        "\n",
        "for i_episode in range(1000):\n",
        "  \n",
        "  plotter.plot(smoothed_reward.get())\n",
        "  \n",
        "  # Restart the environment\n",
        "  observation = env.reset()\n",
        "  \n",
        "  while True:\n",
        "    # using our observation, take an action\n",
        "    action = choose_action(cartpole_model, observation)\n",
        "    next_observation, reward, done, info = env.step(action)\n",
        "    # add to memory\n",
        "    memory.add_to_memory(observation, action, reward)\n",
        "    \n",
        "    # is the episode over? did you chrash or do so well that you´re done?\n",
        "    if done:\n",
        "      # determine total reward and keep a record of this\n",
        "      total_reward = sum(memory.rewards)\n",
        "      smoothed_reward.append( total_reward)\n",
        "      \n",
        "      # initiate training - remember we don´t know anything about how the agent is doing until it´s crashed!\n",
        "      train_step(cartpole_model,\n",
        "                 optimizer,\n",
        "                 observations = np.vstack(memory.observations),\n",
        "                 actions = np.array(memory.actions),\n",
        "                 discounted_rewards = discount_rewards(memory.rewards)\n",
        "                 )\n",
        "      \n",
        "      memory.clear()\n",
        "      break\n",
        "    # update our observations\n",
        "    observation = next_observation"
      ],
      "execution_count": 30,
      "outputs": [
        {
          "output_type": "display_data",
          "data": {
            "image/png": "[encoded data removed]",
            "text/plain": [
              "<Figure size 432x288 with 1 Axes>"
            ]
          },
          "metadata": {
            "tags": []
          }
        },
        {
          "output_type": "display_data",
          "data": {
            "image/png": "[encoded data removed]",
            "text/plain": [
              "<Figure size 432x288 with 1 Axes>"
            ]
          },
          "metadata": {
            "tags": []
          }
        }
      ]
    },
    {
      "metadata": {
        "id": "aI2JXSkpDdVK",
        "colab_type": "text"
      },
      "cell_type": "markdown",
      "source": [
        "### 1.6 Save a video of trained model while it is balancing the pole"
      ]
    },
    {
      "metadata": {
        "id": "6uK2FejcDi_W",
        "colab_type": "code",
        "colab": {
          "base_uri": "https://localhost:8080/",
          "height": 35
        },
        "outputId": "32050a2d-58f8-464a-8159-10a84f349cbf"
      },
      "cell_type": "code",
      "source": [
        "def save_video_of_model(model, env_name, filename='agent.mp4'):\n",
        "  import skvideo.io\n",
        "  from pyvirtualdisplay import Display\n",
        "  display = Display(visible=0, size=(40,30))\n",
        "  display.start()\n",
        "  \n",
        "  env = gym.make(env_name)\n",
        "  obs = env.reset()\n",
        "  shape = env.render(mode='rgb_array').shape[0:2]\n",
        "  \n",
        "  out = skvideo.io.FFmpegWriter(filename)\n",
        "  \n",
        "  done = False\n",
        "  while not done:\n",
        "    frame = env.render(mode='rgb_array')\n",
        "    out.writeFrame(frame)\n",
        "    \n",
        "    action = model(tf.convert_to_tensor(obs.reshape((1,-1)), tf.float32)).numpy().argmax()\n",
        "    obs, reward, done, nfo = env.step(action)\n",
        "  out.close()\n",
        "  print(\"Successfully saved into {}!\".format(filename))\n",
        "  \n",
        "save_video_of_model(cartpole_model, \"CartPole-v0\")"
      ],
      "execution_count": 36,
      "outputs": [
        {
          "output_type": "stream",
          "text": [
            "Successfully saved into agent.mp4!\n"
          ],
          "name": "stdout"
        }
      ]
    },
    {
      "metadata": {
        "id": "LxrlWQ5zFwsc",
        "colab_type": "text"
      },
      "cell_type": "markdown",
      "source": [
        "### 1.7 Display the saved video"
      ]
    },
    {
      "metadata": {
        "id": "ZxvwY8y-FzXk",
        "colab_type": "code",
        "colab": {
          "base_uri": "https://localhost:8080/",
          "height": 421
        },
        "outputId": "94279083-8da7-4422-ed90-390eb2e9eaf0"
      },
      "cell_type": "code",
      "source": [
        "from IPython.display import HTML\n",
        "import io, base64\n",
        "video = io.open('./agent.mp4', 'r+b').read()\n",
        "encoded = base64.b64encode(video)\n",
        "HTML(data ='''\n",
        "<video controls>\n",
        "    <source src=\"data:video/mp4;base64,{0}\" type=\"video/mp4\" />\n",
        "</video>'''.format(encoded.decode('ascii')))"
      ],
      "execution_count": 40,
      "outputs": [
        {
          "output_type": "execute_result",
          "data": {
            "text/html": [
              "\n",
              "<video controls>\n",
              "    <source src=\"data:video/mp4;base64,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\" type=\"video/mp4\" />\n",
              "</video>"
            ],
            "text/plain": [
              "<IPython.core.display.HTML object>"
            ]
          },
          "metadata": {
            "tags": []
          },
          "execution_count": 40
        }
      ]
    }
  ]
}