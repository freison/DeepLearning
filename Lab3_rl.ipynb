{
  "nbformat": 4,
  "nbformat_minor": 0,
  "metadata": {
    "colab": {
      "name": "Lab3_rl.ipynb",
      "version": "0.3.2",
      "provenance": [],
      "collapsed_sections": [],
      "include_colab_link": true
    },
    "kernelspec": {
      "name": "python2",
      "display_name": "Python 2"
    }
  },
  "cells": [
    {
      "cell_type": "markdown",
      "metadata": {
        "id": "view-in-github",
        "colab_type": "text"
      },
      "source": [
        "<a href=\"https://colab.research.google.com/github/freison/DeepLearning/blob/master/Lab3_rl.ipynb\" target=\"_parent\"><img src=\"https://colab.research.google.com/assets/colab-badge.svg\" alt=\"Open In Colab\"/></a>"
      ]
    },
    {
      "metadata": {
        "id": "Nj_C8VBynrh8",
        "colab_type": "text"
      },
      "cell_type": "markdown",
      "source": [
        "# Lab 3: Model-Free Reinforcement Learning"
      ]
    },
    {
      "metadata": {
        "id": "hkE1fTiJs1T5",
        "colab_type": "text"
      },
      "cell_type": "markdown",
      "source": [
        "## Part 1: Cartpole"
      ]
    },
    {
      "metadata": {
        "id": "r1tThXKZs3Nd",
        "colab_type": "code",
        "outputId": "0d02b9f8-b070-4759-f14e-de38556fbe32",
        "colab": {
          "base_uri": "https://localhost:8080/",
          "height": 72
        }
      },
      "cell_type": "code",
      "source": [
        "!apt-get install -y xvfb python-opengl > /dev/null 2>&1\n",
        "!pip install gym pyvirtualdisplay scikit-video > /dev/null 2>&1\n",
        "\n",
        "import tensorflow as tf\n",
        "tf.enable_eager_execution()\n",
        "\n",
        "import gym\n",
        "import numpy as np\n",
        "import matplotlib.pyplot as plt\n",
        "from IPython import display as ipythondisplay\n",
        "import time\n",
        "\n",
        "# Download the class repository\n",
        "! git clone https://github.com/aamini/introtodeeplearning_labs.git  > /dev/null 2>&1\n",
        "% cd introtodeeplearning_labs \n",
        "! git pull\n",
        "% cd ..\n",
        "\n",
        "import introtodeeplearning_labs as util"
      ],
      "execution_count": 2,
      "outputs": [
        {
          "output_type": "stream",
          "text": [
            "/content/introtodeeplearning_labs\n",
            "Already up to date.\n",
            "/content\n"
          ],
          "name": "stdout"
        }
      ]
    },
    {
      "metadata": {
        "id": "gWzgTjQWuwv_",
        "colab_type": "text"
      },
      "cell_type": "markdown",
      "source": [
        "### 1.1 Define and inspect the environment"
      ]
    },
    {
      "metadata": {
        "id": "3pV9fE-qu0ea",
        "colab_type": "code",
        "outputId": "149b7be2-d841-4a6e-c047-7a8ef72832c2",
        "colab": {
          "base_uri": "https://localhost:8080/",
          "height": 35
        }
      },
      "cell_type": "code",
      "source": [
        "'''In order to model our enviroment we will use OpenAI Gym, RL algorithms in many aspects are random,\n",
        "   So we are going to use a seed.'''\n",
        "env = gym.make(\"CartPole-v0\")\n",
        "env.seed(1) # Reproducible, since RL has high variance."
      ],
      "execution_count": 0,
      "outputs": [
        {
          "output_type": "execute_result",
          "data": {
            "text/plain": [
              "[1L]"
            ]
          },
          "metadata": {
            "tags": []
          },
          "execution_count": 3
        }
      ]
    },
    {
      "metadata": {
        "id": "cLVdOJsAwMBa",
        "colab_type": "text"
      },
      "cell_type": "markdown",
      "source": [
        "Observations:\n",
        "\n",
        "1.   position of cart\n",
        "2.   velocity of cart.\n",
        "3.   angle of pole.\n",
        "4.   rotation rate of pole."
      ]
    },
    {
      "metadata": {
        "id": "X4JZioZgwaRH",
        "colab_type": "code",
        "outputId": "a56143dc-fb37-459e-d36f-d015a76ca7a5",
        "colab": {
          "base_uri": "https://localhost:8080/",
          "height": 35
        }
      },
      "cell_type": "code",
      "source": [
        "'''We can confirm the size of the space by querying the observation space:'''\n",
        "print(\"Enviroment has observation space = {}\".format(env.observation_space))"
      ],
      "execution_count": 0,
      "outputs": [
        {
          "output_type": "stream",
          "text": [
            "Enviroment has observation space = Box(4,)\n"
          ],
          "name": "stdout"
        }
      ]
    },
    {
      "metadata": {
        "id": "rdwn7zcOxK97",
        "colab_type": "code",
        "outputId": "4e9593c5-37ee-4997-a482-65631f01aa82",
        "colab": {
          "base_uri": "https://localhost:8080/",
          "height": 35
        }
      },
      "cell_type": "code",
      "source": [
        "'''At every time step, the agent can move either right or left.\n",
        "   Confirm the size of the action space by querying the environment'''\n",
        "n_actions = env.action_space.n\n",
        "print(\"Number of possible actions that the agent can choose from = {}\".format(n_actions))"
      ],
      "execution_count": 0,
      "outputs": [
        {
          "output_type": "stream",
          "text": [
            "Number of possible actions that the agent can choose from = 2\n"
          ],
          "name": "stdout"
        }
      ]
    },
    {
      "metadata": {
        "id": "sp0k2ZYGx_aK",
        "colab_type": "text"
      },
      "cell_type": "markdown",
      "source": [
        "### 1.2 Define the agent"
      ]
    },
    {
      "metadata": {
        "id": "5ESKJpBdyCK8",
        "colab_type": "code",
        "colab": {}
      },
      "cell_type": "code",
      "source": [
        "'''Let´s define our agent, which is simply a deep neural network which takes as input an observation of the environment \n",
        "   and outputs the probability of taking each of the possible actions.'''\n",
        "def create_cartpole_model():\n",
        "  model = tf.keras.Sequential([\n",
        "      tf.keras.layers.Dense(units = 32, activation = 'relu'),\n",
        "      # TODO: define the output dimension of the last Dense layer\n",
        "      # Hint: think about that the space the agent needs to act in\n",
        "      tf.keras.layers.Dense(units = n_actions, activation = None)\n",
        "  ])\n",
        "  return model\n",
        "cartpole_model = create_cartpole_model()"
      ],
      "execution_count": 0,
      "outputs": []
    },
    {
      "metadata": {
        "id": "CJKoxCzHzopG",
        "colab_type": "code",
        "colab": {}
      },
      "cell_type": "code",
      "source": [
        "'''Define the action function that executes a forward pass through the network and samples from the output. \n",
        "   Take special note of the output activation of the model.'''\n",
        "def choose_action(model, observation):\n",
        "  \n",
        "  observation = observation.reshape([1,-1])\n",
        "  '''TODO: feed the observations through the model to predict the log probabilities of each possible action.'''\n",
        "  logits = model.predict(observation) #TODO\n",
        "  \n",
        "  # pass the log probabilities through a softmax to compute true probabilities\n",
        "  prob_weights = tf.nn.softmax(logits).numpy()\n",
        "  \n",
        "  '''TODO: randomly sample from the prob_weights to pick an action.\n",
        "  Hint: carefully consider the dimensionality of the input probabilities (vector) and the output action (scalar)'''\n",
        "  action = np.random.choice(n_actions, size = 1, p = prob_weights.flatten())[0]\n",
        "  \n",
        "  return action"
      ],
      "execution_count": 0,
      "outputs": []
    },
    {
      "metadata": {
        "id": "EzfbhQiK2TgG",
        "colab_type": "text"
      },
      "cell_type": "markdown",
      "source": [
        "### 1.3 Create the agent's memory"
      ]
    },
    {
      "metadata": {
        "id": "pNzi2Y_A2V4U",
        "colab_type": "code",
        "colab": {}
      },
      "cell_type": "code",
      "source": [
        "'''During training, the agent will need to remember all of its observations, actions so that once the episode ends, \n",
        "it can \"reinforce\" the good actions and punish the undesirable actions. Let's do this by defining a simple memory buffer that contains the agent's observations, \n",
        "actions, and received rewards from a given episode.'''\n",
        "class Memory:\n",
        "  def __init__(self):\n",
        "    self.clear()\n",
        "    \n",
        "  def clear(self):\n",
        "    self.observations = []\n",
        "    self.actions = []\n",
        "    self.rewards = []\n",
        "    \n",
        "  def add_to_memory(self, new_observation, new_action, new_reward):\n",
        "    self.observations.append(new_observation)\n",
        "    '''TODO: update the list of actions with new action'''\n",
        "    self.actions.append(new_action) #TODO\n",
        "    '''TODO: update the list of rewards with new reward'''\n",
        "    self.rewards.append(new_reward) #TODO\n",
        "    \n",
        "memory = Memory()"
      ],
      "execution_count": 0,
      "outputs": []
    },
    {
      "metadata": {
        "id": "L-6hcOEd5Wv4",
        "colab_type": "text"
      },
      "cell_type": "markdown",
      "source": [
        "We're almost ready to begin the learning algorithm for our agent! The final step is to compute the discounted rewards of our agent. Recall from lecture, we use reward discount to give more preference at getting rewards now rather than later in the future. The idea of discounting rewards is similar to discounting money in the case of interest and can be defined as:\n",
        "\n",
        ">$R_{t}=\\sum_{k=0}^\\infty\\gamma^kr_{t+k}$\n",
        "\n",
        "where  γ  is the discount factor. In other words, at the end of an episode, we'll want to depreciate any rewards received at later time steps. Since we can't play an infinite number of games, we'll be limited to the number of timesteps in an episode. When implementing the function, you can initialize a numpy array of zeros (with length of the number of time steps) and fill it with the real discounted reward values as you loop through the saved rewards from the episode. We'll also want to normalize our output, which you can do using information about the mean and standard deviation of the discounted rewards."
      ]
    },
    {
      "metadata": {
        "id": "OFIqXsVm5XWi",
        "colab_type": "code",
        "colab": {}
      },
      "cell_type": "code",
      "source": [
        "def normalize(x):\n",
        "  x -= np.mean(x)\n",
        "  x /= np.std(x)\n",
        "  return x\n",
        "\n",
        "def discount_rewards(rewards, gamma = 0.95):\n",
        "  discounted_rewards = np.zeros_like(rewards)\n",
        "  R = 0\n",
        "  for t in reversed(range(0, len(rewards))):\n",
        "    # update the total discounted reward\n",
        "    R = R * gamma + rewards[t]\n",
        "    discounted_rewards[t] = R\n",
        "    \n",
        "  return normalize(discounted_rewards)"
      ],
      "execution_count": 0,
      "outputs": []
    },
    {
      "metadata": {
        "id": "BBQq9Lt66Pud",
        "colab_type": "text"
      },
      "cell_type": "markdown",
      "source": [
        "### 1.4 Define the learning algorithm"
      ]
    },
    {
      "metadata": {
        "id": "GUe2kl2t6SoG",
        "colab_type": "code",
        "colab": {}
      },
      "cell_type": "code",
      "source": [
        "'''Now we can start to define the learing algorithm \n",
        "which will be used to reinforce good behaviors of the agent and discourage bad behaviours. \n",
        "Start by defining the optimizer we want to use.'''\n",
        "learning_rate = 1e-3\n",
        "optimizer = tf.train.AdamOptimizer(learning_rate)"
      ],
      "execution_count": 0,
      "outputs": []
    },
    {
      "metadata": {
        "id": "dKPgPJES7tv7",
        "colab_type": "text"
      },
      "cell_type": "markdown",
      "source": [
        "And now let's define the loss function. In this lab we are focusing on policy gradient methods which aim to maximize the likelihood of actions that result in large rewards. Equivalently, this means that we want to minimize the negative likelihood of these same actions. Like in supervised learning, we can use stochastic gradient descent methods to achieve this minimization.\n",
        "\n",
        "Since the log function is monotonically increasing, this means that minimizing negative likelihood is equivalent to minimizing negative log-likelihood. Recall that we can easily compute the negative log-likelihood of an discrete action by evaluting its softmax cross entropy (https://www.tensorflow.org/api_docs/python/tf/nn/sparse_softmax_cross_entropy_with_logits)"
      ]
    },
    {
      "metadata": {
        "id": "Wg82ycj_7vTU",
        "colab_type": "code",
        "colab": {}
      },
      "cell_type": "code",
      "source": [
        "def compute_loss(logits, actions, rewards):\n",
        "  '''TODO: complete the call to compute the loss'''\n",
        "  neg_logprob = tf.nn.sparse_softmax_cross_entropy_with_logits(logits = logits, labels = actions) # TODO\n",
        "  '''TODO: scale the negative log probability by the rewards'''\n",
        "  loss = tf.reduce_mean( neg_logprob * rewards) # TODO\n",
        "  return loss"
      ],
      "execution_count": 0,
      "outputs": []
    },
    {
      "metadata": {
        "id": "YpVrt_ZX8a7d",
        "colab_type": "code",
        "colab": {}
      },
      "cell_type": "code",
      "source": [
        "'''Now let's use the loss function to define a backpropogation step of our learning algorithm.'''\n",
        "def train_step(model, optimizer, observations, actions, discounted_rewards):\n",
        "  with tf.GradientTape() as tape:\n",
        "    # Forward propogate through the agent\n",
        "    observations = tf.convert_to_tensor(observations, dtype=tf.float32)\n",
        "    logits = model(observations)\n",
        "    \n",
        "    '''TODO: call the compute_loss function to compute the loss'''\n",
        "    loss = compute_loss(logits, actions, discounted_rewards) # TODO\n",
        "    \n",
        "  '''TODO: run backpropagation using the tape.gradient method'''\n",
        "  grads = tape.gradient(loss, model.variables) # TODO\n",
        "  optimizer.apply_gradients(zip(grads, model.variables), global_step=tf.train.get_or_create_global_step())"
      ],
      "execution_count": 0,
      "outputs": []
    },
    {
      "metadata": {
        "id": "on9PaoTv9wpm",
        "colab_type": "text"
      },
      "cell_type": "markdown",
      "source": [
        "### 1.5 Let the agent go and watch it learn from scratch\n",
        "Having had no prior knowledge of the environment, the agent will begin to learn how to balance the pole on the cart based only on the feedback received from the environment! Having defined how our agent can move, how it takes in new observations, and how it updates its state, we'll see how it gradually learns a policy of actions to optimize balancing the pole as long as possible."
      ]
    },
    {
      "metadata": {
        "id": "bdRit6X391QY",
        "colab_type": "code",
        "outputId": "612dba2b-1a48-4467-c281-8330aad5cf1a",
        "colab": {
          "base_uri": "https://localhost:8080/",
          "height": 550
        }
      },
      "cell_type": "code",
      "source": [
        "cartpole_model = create_cartpole_model()\n",
        "\n",
        "smoothed_reward = util.LossHistory(smoothing_factor=0.9)\n",
        "plotter = util.PeriodicPlotter(sec=5, xlabel='Iterations', ylabel='Rewards')\n",
        "\n",
        "for i_episode in range(1000):\n",
        "  \n",
        "  plotter.plot(smoothed_reward.get())\n",
        "  \n",
        "  # Restart the environment\n",
        "  observation = env.reset()\n",
        "  \n",
        "  while True:\n",
        "    # using our observation, take an action\n",
        "    action = choose_action(cartpole_model, observation)\n",
        "    next_observation, reward, done, info = env.step(action)\n",
        "    # add to memory\n",
        "    memory.add_to_memory(observation, action, reward)\n",
        "    \n",
        "    # is the episode over? did you chrash or do so well that you´re done?\n",
        "    if done:\n",
        "      # determine total reward and keep a record of this\n",
        "      total_reward = sum(memory.rewards)\n",
        "      smoothed_reward.append( total_reward)\n",
        "      \n",
        "      # initiate training - remember we don´t know anything about how the agent is doing until it´s crashed!\n",
        "      train_step(cartpole_model,\n",
        "                 optimizer,\n",
        "                 observations = np.vstack(memory.observations),\n",
        "                 actions = np.array(memory.actions),\n",
        "                 discounted_rewards = discount_rewards(memory.rewards)\n",
        "                 )\n",
        "      \n",
        "      memory.clear()\n",
        "      break\n",
        "    # update our observations\n",
        "    observation = next_observation"
      ],
      "execution_count": 0,
      "outputs": [
        {
          "output_type": "display_data",
          "data": {
            "image/png": "[encoded data removed]",
            "text/plain": [
              "<Figure size 432x288 with 1 Axes>"
            ]
          },
          "metadata": {
            "tags": []
          }
        },
        {
          "output_type": "display_data",
          "data": {
            "image/png": "[encoded data removed]",
            "text/plain": [
              "<Figure size 432x288 with 1 Axes>"
            ]
          },
          "metadata": {
            "tags": []
          }
        }
      ]
    },
    {
      "metadata": {
        "id": "aI2JXSkpDdVK",
        "colab_type": "text"
      },
      "cell_type": "markdown",
      "source": [
        "### 1.6 Save a video of trained model while it is balancing the pole"
      ]
    },
    {
      "metadata": {
        "id": "6uK2FejcDi_W",
        "colab_type": "code",
        "outputId": "32050a2d-58f8-464a-8159-10a84f349cbf",
        "colab": {
          "base_uri": "https://localhost:8080/",
          "height": 35
        }
      },
      "cell_type": "code",
      "source": [
        "def save_video_of_model(model, env_name, filename='agent.mp4'):\n",
        "  import skvideo.io\n",
        "  from pyvirtualdisplay import Display\n",
        "  display = Display(visible=0, size=(40,30))\n",
        "  display.start()\n",
        "  \n",
        "  env = gym.make(env_name)\n",
        "  obs = env.reset()\n",
        "  shape = env.render(mode='rgb_array').shape[0:2]\n",
        "  \n",
        "  out = skvideo.io.FFmpegWriter(filename)\n",
        "  \n",
        "  done = False\n",
        "  while not done:\n",
        "    frame = env.render(mode='rgb_array')\n",
        "    out.writeFrame(frame)\n",
        "    \n",
        "    action = model(tf.convert_to_tensor(obs.reshape((1,-1)), tf.float32)).numpy().argmax()\n",
        "    obs, reward, done, nfo = env.step(action)\n",
        "  out.close()\n",
        "  print(\"Successfully saved into {}!\".format(filename))\n",
        "  \n",
        "save_video_of_model(cartpole_model, \"CartPole-v0\")"
      ],
      "execution_count": 0,
      "outputs": [
        {
          "output_type": "stream",
          "text": [
            "Successfully saved into agent.mp4!\n"
          ],
          "name": "stdout"
        }
      ]
    },
    {
      "metadata": {
        "id": "LxrlWQ5zFwsc",
        "colab_type": "text"
      },
      "cell_type": "markdown",
      "source": [
        "### 1.7 Display the saved video"
      ]
    },
    {
      "metadata": {
        "id": "ZxvwY8y-FzXk",
        "colab_type": "code",
        "colab": {}
      },
      "cell_type": "code",
      "source": [
        "from IPython.display import HTML\n",
        "import io, base64\n",
        "video = io.open('./agent.mp4', 'r+b').read()\n",
        "encoded = base64.b64encode(video)\n",
        "HTML(data ='''\n",
        "<video controls>\n",
        "    <source src=\"data:video/mp4;base64,{0}\" type=\"video/mp4\" />\n",
        "</video>'''.format(encoded.decode('ascii')))"
      ],
      "execution_count": 0,
      "outputs": []
    },
    {
      "metadata": {
        "id": "8wdINM7sfRLI",
        "colab_type": "text"
      },
      "cell_type": "markdown",
      "source": [
        "## Part 2: Pong"
      ]
    },
    {
      "metadata": {
        "id": "Iis48MR2flZh",
        "colab_type": "text"
      },
      "cell_type": "markdown",
      "source": [
        "In Cart Pole, we dealt with an environment that was static--in other words, it didn't change over time. What happens if our environment is dynamic and unpredictable? Well that's exactly the case in Pong, since part of the environment is our opposing player. We don't know how our opponent will act or react to our actions, so the complexity of our problem increases. It also becomes much more interesting, since we can compete to beat our opponent."
      ]
    },
    {
      "metadata": {
        "id": "3R8VdQCZfsDg",
        "colab_type": "text"
      },
      "cell_type": "markdown",
      "source": [
        "### 2.1 Define and inspect the environment"
      ]
    },
    {
      "metadata": {
        "id": "pX2mgVhhfvjx",
        "colab_type": "code",
        "colab": {
          "base_uri": "https://localhost:8080/",
          "height": 35
        },
        "outputId": "6d84f0c9-e5f9-4155-a8a8-295f76c7a9e9"
      },
      "cell_type": "code",
      "source": [
        "env = gym.make(\"Pong-v0\")\n",
        "env.seed(1) # reproducible, since RL has high variance"
      ],
      "execution_count": 3,
      "outputs": [
        {
          "output_type": "execute_result",
          "data": {
            "text/plain": [
              "[1L, 289714752L]"
            ]
          },
          "metadata": {
            "tags": []
          },
          "execution_count": 3
        }
      ]
    },
    {
      "metadata": {
        "id": "zuyWUcD8hKXs",
        "colab_type": "text"
      },
      "cell_type": "markdown",
      "source": [
        "Observations:\n",
        " \n",
        " 1. RGB image of shape (210, 160, 3)\n",
        "\n",
        "We can again confim the size of the observation space by query:"
      ]
    },
    {
      "metadata": {
        "id": "C82poX5AhWCG",
        "colab_type": "code",
        "colab": {
          "base_uri": "https://localhost:8080/",
          "height": 35
        },
        "outputId": "63aa77b7-1145-4448-f5ed-3908c0e3a866"
      },
      "cell_type": "code",
      "source": [
        "print(\"Environment has observation space = {}\".format(env.env.observation_space))"
      ],
      "execution_count": 5,
      "outputs": [
        {
          "output_type": "stream",
          "text": [
            "Environment has observation space = Box(210, 160, 3)\n"
          ],
          "name": "stdout"
        }
      ]
    },
    {
      "metadata": {
        "id": "IZSt_kEUhySm",
        "colab_type": "code",
        "colab": {
          "base_uri": "https://localhost:8080/",
          "height": 35
        },
        "outputId": "fbc8fbe4-9987-4b61-9d8b-1340096764d9"
      },
      "cell_type": "code",
      "source": [
        "'''At every time step, the agent has six actions to choose from: noop, fire, move right, move left, fire right, and fire left.\n",
        "Let's confirm the size of the action space by querying the environment:'''\n",
        "n_actions = env.action_space.n\n",
        "print(\"Number of possible actions that the agent can choose from = {}\".format(n_actions))"
      ],
      "execution_count": 6,
      "outputs": [
        {
          "output_type": "stream",
          "text": [
            "Number of possible actions that the agent can choose from = 6\n"
          ],
          "name": "stdout"
        }
      ]
    }
  ]
}