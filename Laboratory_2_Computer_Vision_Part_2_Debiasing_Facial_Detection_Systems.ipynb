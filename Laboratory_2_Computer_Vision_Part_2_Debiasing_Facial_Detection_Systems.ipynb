{
  "nbformat": 4,
  "nbformat_minor": 0,
  "metadata": {
    "colab": {
      "name": "Laboratory_2:Computer Vision_Part 2: Debiasing Facial Detection Systems.ipynb",
      "version": "0.3.2",
      "provenance": [],
      "collapsed_sections": [],
      "include_colab_link": true
    },
    "kernelspec": {
      "name": "python2",
      "display_name": "Python 2"
    }
  },
  "cells": [
    {
      "cell_type": "markdown",
      "metadata": {
        "id": "view-in-github",
        "colab_type": "text"
      },
      "source": [
        "<a href=\"https://colab.research.google.com/github/freison/DeepLearning/blob/master/Laboratory_2_Computer_Vision_Part_2_Debiasing_Facial_Detection_Systems.ipynb\" target=\"_parent\"><img src=\"https://colab.research.google.com/assets/colab-badge.svg\" alt=\"Open In Colab\"/></a>"
      ]
    },
    {
      "metadata": {
        "id": "DxFdSkBoNl5R",
        "colab_type": "text"
      },
      "cell_type": "markdown",
      "source": [
        "# Part 2: Debiasing Facial Detection Systems"
      ]
    },
    {
      "metadata": {
        "id": "dwvZWMeXNcqA",
        "colab_type": "code",
        "colab": {}
      },
      "cell_type": "code",
      "source": [
        "from IPython.display import YouTubeVideo\n",
        "YouTubeVideo('59bMh59JQDo')"
      ],
      "execution_count": 0,
      "outputs": []
    },
    {
      "metadata": {
        "id": "wCBIZ1EwNu62",
        "colab_type": "code",
        "colab": {
          "base_uri": "https://localhost:8080/",
          "height": 68
        },
        "outputId": "852ef1ab-f508-4b1c-b74b-d9d6446bb4fe"
      },
      "cell_type": "code",
      "source": [
        "import tensorflow as tf\n",
        "tf.enable_eager_execution()\n",
        "\n",
        "import functools\n",
        "import matplotlib.pyplot as plt\n",
        "import numpy as np\n",
        "import pdb\n",
        "\n",
        "# Download the class repository\n",
        "! git clone https://github.com/aamini/introtodeeplearning_labs.git  > /dev/null 2>&1\n",
        "% cd introtodeeplearning_labs \n",
        "! git pull\n",
        "% cd .. \n",
        "\n",
        "# Import the necessary class-specific utility files for this lab\n",
        "import introtodeeplearning_labs as util"
      ],
      "execution_count": 5,
      "outputs": [
        {
          "output_type": "stream",
          "text": [
            "/content/introtodeeplearning_labs\n",
            "Already up to date.\n",
            "/content\n"
          ],
          "name": "stdout"
        }
      ]
    },
    {
      "metadata": {
        "id": "VnVIhOmvOF9h",
        "colab_type": "code",
        "colab": {
          "base_uri": "https://localhost:8080/",
          "height": 68
        },
        "outputId": "23a40969-0d26-4a04-f183-7770cd9c9aee"
      },
      "cell_type": "code",
      "source": [
        "# Get the training data: both images from CelebA and ImageNet\n",
        "path_to_training_data = tf.keras.utils.get_file('train_face.h5', 'https://www.dropbox.com/s/l5iqduhe0gwxumq/train_face.h5?dl=1')"
      ],
      "execution_count": 6,
      "outputs": [
        {
          "output_type": "stream",
          "text": [
            "Downloading data from https://www.dropbox.com/s/l5iqduhe0gwxumq/train_face.h5?dl=1\n",
            "1263894528/1263889489 [==============================] - 24s 0us/step\n",
            "1263902720/1263889489 [==============================] - 24s 0us/step\n"
          ],
          "name": "stdout"
        }
      ]
    },
    {
      "metadata": {
        "id": "BgkQaaGdRSnF",
        "colab_type": "code",
        "colab": {
          "base_uri": "https://localhost:8080/",
          "height": 51
        },
        "outputId": "06de6d45-e956-404b-bd62-eff5ef3210af"
      },
      "cell_type": "code",
      "source": [
        "# Instantiate a TrainingDatasetLoader using the downloaded dataset\n",
        "loader = util.TrainingDatasetLoader(path_to_training_data)"
      ],
      "execution_count": 7,
      "outputs": [
        {
          "output_type": "stream",
          "text": [
            "Opening /root/.keras/datasets/train_face.h5\n",
            "Loading data into memory...\n"
          ],
          "name": "stdout"
        }
      ]
    },
    {
      "metadata": {
        "id": "xFt586M3R9vi",
        "colab_type": "code",
        "colab": {}
      },
      "cell_type": "code",
      "source": [
        "# We can look at the size of the training dataset and grab a batch of size 100:\n",
        "number_of_training_examples = loader.get_train_size()\n",
        "(images, labels) = loader.get_batch(100)"
      ],
      "execution_count": 0,
      "outputs": []
    },
    {
      "metadata": {
        "id": "szHyAgUNTcR6",
        "colab_type": "code",
        "colab": {}
      },
      "cell_type": "code",
      "source": [
        "face_images= images[np.where(labels ==1)[0]]\n",
        "not_face_images = images[np.where(labels == 0)[0]]\n",
        "\n",
        "idx_face = 5 #@param {type:\"slider\", min:0, max:50, step:1}\n",
        "idx_not_face = 11 #@param{type: \"slider\", min:0, max:50, step:1}\n",
        "\n",
        "plt.figure(figsize=(4,2))\n",
        "plt.subplot(1,2,1)\n",
        "plt.imshow(face_images[idx_face])\n",
        "plt.title(\"Face\")\n",
        "plt.grid(False)\n",
        "\n",
        "plt.subplot(1,2,2)\n",
        "plt.imshow(not_face_images[idx_not_face])\n",
        "plt.title(\"Not Face\")\n",
        "plt.grid(False)"
      ],
      "execution_count": 0,
      "outputs": []
    }
  ]
}